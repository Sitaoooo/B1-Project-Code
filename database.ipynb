{
 "cells": [
  {
   "cell_type": "code",
   "execution_count": 1,
   "metadata": {},
   "outputs": [],
   "source": [
    "import wfdb\n",
    "import numpy as np"
   ]
  },
  {
   "cell_type": "code",
   "execution_count": 2,
   "metadata": {},
   "outputs": [],
   "source": [
    "\n",
    "# # List available records in the MIMIC database\n",
    "# records = wfdb.get_record_list('mimicdb')\n",
    "# print(\"Available Records:\", records)\n"
   ]
  },
  {
   "cell_type": "code",
   "execution_count": 3,
   "metadata": {},
   "outputs": [],
   "source": [
    "# wfdb.io.dl_database(\n",
    "#     db_dir='mimicdb',\n",
    "#     dl_dir='./mimic_subset',\n",
    "#     records = ['037/037','208/208','041/041','055/055','039/039'],  # Directory to save the file # List of record names to download\n",
    "#     overwrite=False  # Set to True to overwrite the downloaded files\n",
    "\n",
    "# )"
   ]
  },
  {
   "cell_type": "code",
   "execution_count": 4,
   "metadata": {},
   "outputs": [
    {
     "name": "stdout",
     "output_type": "stream",
     "text": [
      "{'mimic_subset/209/20900001': [array([-0.00484653, -0.03231018, -0.04038772, ...,  0.00323102,\n",
      "        0.00323102,  0.00323102])], 'mimic_subset/039/03900001': [array([-0.0325, -0.0385, -0.0405, ...,  0.087 , -0.0345, -0.084 ])], 'mimic_subset/041/04100001': [array([-0.0295, -0.0295, -0.026 , ..., -0.022 , -0.0235, -0.028 ])], 'mimic_subset/055/05500001': [array([0.1375, 0.158 , 0.1315, ..., 0.003 , 0.005 , 0.0105])], 'mimic_subset/208/20800001': [array([-0.08605341, -0.09495549, -0.07863501, ..., -0.02967359,\n",
      "       -0.02077151, -0.02967359])]}\n"
     ]
    }
   ],
   "source": [
    "recordinfo = {'mimic_subset/209/20900001':'ii','mimic_subset/039/03900001':'iii','mimic_subset/041/04100001':'iii',\n",
    "              'mimic_subset/055/05500001':'mcl1','mimic_subset/208/20800001':'ii'}\n",
    "#data preparation\n",
    "ecg_signals = {}\n",
    "for key,value in recordinfo.items():\n",
    "    record_path = key\n",
    "    signal_name = value\n",
    "    record = wfdb.rdrecord(record_path)\n",
    "    # Display metadata\n",
    "    #print(\"Signal Names:\", record.sig_name)\n",
    "    #print(\"Sampling Frequency:\", record.fs)\n",
    "    #print(\"Number of Samples:\", len(record.p_signal))\n",
    "\n",
    "    duration =  10 # Duration of the ECG signal to extract (in seconds)\n",
    "    num_samples = duration*record.fs\n",
    "    num_samples = 2**(int(np.floor(np.log2(num_samples))))\n",
    "    # Extract ECG data (assuming it's labeled 'ECG')\n",
    "    ecg_signal = [\n",
    "        record.p_signal[:num_samples, i]\n",
    "        for i, name in enumerate(record.sig_name)\n",
    "        if signal_name in name.lower()\n",
    "    ]\n",
    "    #print(f\"Extracted {len(ecg_signal)} ECG signals.\")\n",
    "    ecg_signals[record_path] = ecg_signal\n",
    "\n",
    "\n",
    "print(ecg_signals)\n"
   ]
  },
  {
   "cell_type": "code",
   "execution_count": 5,
   "metadata": {},
   "outputs": [
    {
     "name": "stdout",
     "output_type": "stream",
     "text": [
      "Contains NaN: False\n",
      "Contains NaN: False\n",
      "Contains NaN: False\n",
      "Contains NaN: False\n",
      "Contains NaN: False\n"
     ]
    }
   ],
   "source": [
    "for key,value in ecg_signals.items():\n",
    "    contains_nan = np.isnan(value).any()\n",
    "    print(\"Contains NaN:\", contains_nan)  # Output: True"
   ]
  },
  {
   "cell_type": "code",
   "execution_count": 6,
   "metadata": {},
   "outputs": [],
   "source": [
    "from sklearn.metrics import mean_squared_error\n",
    "import numpy as np\n",
    "import time\n",
    "from sklearn.metrics import mean_squared_error\n",
    "from memory_profiler import memory_usage\n"
   ]
  },
  {
   "cell_type": "code",
   "execution_count": 7,
   "metadata": {},
   "outputs": [
    {
     "ename": "NameError",
     "evalue": "name 'profile' is not defined",
     "output_type": "error",
     "traceback": [
      "\u001b[1;31m---------------------------------------------------------------------------\u001b[0m",
      "\u001b[1;31mNameError\u001b[0m                                 Traceback (most recent call last)",
      "Cell \u001b[1;32mIn[7], line 3\u001b[0m\n\u001b[0;32m      1\u001b[0m \u001b[38;5;28;01mfrom\u001b[39;00m \u001b[38;5;21;01mAI_FFT_no_prompt\u001b[39;00m \u001b[38;5;28;01mimport\u001b[39;00m fft_v1, fft_v2, fft_v3\n\u001b[0;32m      2\u001b[0m \u001b[38;5;28;01mfrom\u001b[39;00m \u001b[38;5;21;01mAI_FFT_prompt\u001b[39;00m \u001b[38;5;28;01mimport\u001b[39;00m fft_prompt_v1, fft_prompt_v2, fft_prompt_v3\n\u001b[1;32m----> 3\u001b[0m \u001b[38;5;28;01mfrom\u001b[39;00m \u001b[38;5;21;01mmanual_FFT\u001b[39;00m \u001b[38;5;28;01mimport\u001b[39;00m manual_fft\n\u001b[0;32m      4\u001b[0m \u001b[38;5;28;01mfrom\u001b[39;00m \u001b[38;5;21;01mbaseline_fft\u001b[39;00m \u001b[38;5;28;01mimport\u001b[39;00m baseline_fft\n\u001b[0;32m      6\u001b[0m \u001b[38;5;66;03m# Define your FFT functions in a dictionary\u001b[39;00m\n",
      "File \u001b[1;32mc:\\Users\\Lenovo\\OneDrive\\Desktop\\3rd year\\B1 computing\\B1 Project Code\\manual_FFT.py:3\u001b[0m\n\u001b[0;32m      1\u001b[0m \u001b[38;5;28;01mimport\u001b[39;00m \u001b[38;5;21;01mnumpy\u001b[39;00m \u001b[38;5;28;01mas\u001b[39;00m \u001b[38;5;21;01mnp\u001b[39;00m\n\u001b[1;32m----> 3\u001b[0m \u001b[38;5;129m@profile\u001b[39m\n\u001b[0;32m      4\u001b[0m \u001b[38;5;28;01mdef\u001b[39;00m \u001b[38;5;21mmanual_fft\u001b[39m(x):\n\u001b[0;32m      5\u001b[0m \u001b[38;5;250m    \u001b[39m\u001b[38;5;124;03m\"\"\"\u001b[39;00m\n\u001b[0;32m      6\u001b[0m \u001b[38;5;124;03m    A recursive implementation of \u001b[39;00m\n\u001b[0;32m      7\u001b[0m \u001b[38;5;124;03m    the 1D Cooley-Tukey FFT, the \u001b[39;00m\n\u001b[0;32m      8\u001b[0m \u001b[38;5;124;03m    input should have a length of \u001b[39;00m\n\u001b[0;32m      9\u001b[0m \u001b[38;5;124;03m    power of 2. \u001b[39;00m\n\u001b[0;32m     10\u001b[0m \u001b[38;5;124;03m    \"\"\"\u001b[39;00m\n\u001b[0;32m     11\u001b[0m     N \u001b[38;5;241m=\u001b[39m \u001b[38;5;28mlen\u001b[39m(x)\n",
      "\u001b[1;31mNameError\u001b[0m: name 'profile' is not defined"
     ]
    }
   ],
   "source": [
    "from AI_FFT_no_prompt import fft_v1, fft_v2, fft_v3\n",
    "from AI_FFT_prompt import fft_prompt_v1, fft_prompt_v2, fft_prompt_v3\n",
    "from manual_FFT import manual_fft\n",
    "from baseline_fft import baseline_fft\n",
    "\n",
    "# Define your FFT functions in a dictionary\n",
    "fft_functions = {\n",
    "    \"fft_v1\": fft_v1,\n",
    "    \"fft_v2\": fft_v2,\n",
    "    \"fft_v3\": fft_v3,\n",
    "    \"fft_prompt_v1\": fft_prompt_v1,\n",
    "    \"fft_prompt_v2\": fft_prompt_v2,\n",
    "    \"fft_prompt_v3\": fft_prompt_v3,\n",
    "    \"manual_fft\": manual_fft,\n",
    "}\n",
    "\n",
    "# Initialize a results dictionary\n",
    "evaluation_results = {func_name: {\"accuracy\": [], \"runtime\": [], \"memory\": []} for func_name in fft_functions.keys()}\n",
    "baseline_runtime = []\n",
    "\n",
    "# Evaluation Framework\n",
    "for signal_ID, signal in ecg_signals.items():\n",
    "    if not isinstance(signal, np.ndarray):\n",
    "        signal_numpy = np.asarray(signal, dtype=float).flatten()\n",
    "    \n",
    "    # Evaluate runtime for baseline FFT\n",
    "    start_time = time.time()\n",
    "    print(\"start_time\",start_time)\n",
    "    baseline_fft_result = baseline_fft(signal_numpy)\n",
    "    end_time = time.time()\n",
    "    print(\"end_time\",end_time)\n",
    "    baseline_runtime.append(end_time - start_time)\n",
    "    \n",
    "    for func_name, fft_function in fft_functions.items():\n",
    "        # Evaluate memory usage\n",
    "        mem_usage = memory_usage((fft_function, (signal_numpy,)), interval=0.1, timeout=1)\n",
    "        memory = max(mem_usage) - min(mem_usage)\n",
    "        mem_usage.clear()  # Reset memory usage list\n",
    "\n",
    "        # Evaluate runtime\n",
    "        start_time = time.time()\n",
    "        generated_fft = fft_function(signal_numpy)\n",
    "        end_time = time.time()\n",
    "        runtime = end_time - start_time\n",
    "\n",
    "\n",
    "\n",
    "        # Evaluate accuracy\n",
    "        mse = mean_squared_error(np.abs(generated_fft), np.abs(baseline_fft_result))\n",
    "\n",
    "        # Store results\n",
    "        evaluation_results[func_name][\"accuracy\"].append(mse)\n",
    "        evaluation_results[func_name][\"runtime\"].append(runtime)\n",
    "        evaluation_results[func_name][\"memory\"].append(memory)\n",
    "    break   \n",
    "# Compute average results\n",
    "average_results = {}\n",
    "for func_name, metrics in evaluation_results.items():\n",
    "    average_results[func_name] = {\n",
    "        \"avg_accuracy\": np.mean(metrics[\"accuracy\"]),\n",
    "        \"avg_runtime\": np.mean(metrics[\"runtime\"]),\n",
    "        \"avg_memory\": np.mean(metrics[\"memory\"])\n",
    "    }\n",
    "\n",
    "# Compute average runtime for baseline FFT\n",
    "average_baseline_runtime = np.mean(baseline_runtime)\n",
    "\n",
    "# Print results\n",
    "print(\"Average Evaluation Results:\")\n",
    "for func_name, averages in average_results.items():\n",
    "    print(f\"{func_name}: Accuracy (MSE): {averages['avg_accuracy']:.5f}, \"\n",
    "          f\"Runtime: {averages['avg_runtime']:.5f}s, \"\n",
    "          f\"Memory: {averages['avg_memory']} MB\")\n",
    "\n",
    "print(f\"Baseline FFT: Runtime: {average_baseline_runtime:}s\")"
   ]
  },
  {
   "cell_type": "code",
   "execution_count": null,
   "metadata": {},
   "outputs": [],
   "source": []
  }
 ],
 "metadata": {
  "kernelspec": {
   "display_name": "B1Practical_env",
   "language": "python",
   "name": "python3"
  },
  "language_info": {
   "codemirror_mode": {
    "name": "ipython",
    "version": 3
   },
   "file_extension": ".py",
   "mimetype": "text/x-python",
   "name": "python",
   "nbconvert_exporter": "python",
   "pygments_lexer": "ipython3",
   "version": "3.12.7"
  }
 },
 "nbformat": 4,
 "nbformat_minor": 2
}
