{
  "nbformat": 4,
  "nbformat_minor": 0,
  "metadata": {
    "colab": {
      "provenance": [],
      "include_colab_link": true
    },
    "kernelspec": {
      "name": "python3",
      "display_name": "Python 3"
    },
    "language_info": {
      "name": "python"
    }
  },
  "cells": [
    {
      "cell_type": "markdown",
      "metadata": {
        "id": "view-in-github",
        "colab_type": "text"
      },
      "source": [
        "<a href=\"https://colab.research.google.com/github/Sitaoooo/B1-Project-Code/blob/master/SVM.ipynb\" target=\"_parent\"><img src=\"https://colab.research.google.com/assets/colab-badge.svg\" alt=\"Open In Colab\"/></a>"
      ]
    },
    {
      "cell_type": "code",
      "source": [
        "import numpy as np\n",
        "import matplotlib.pyplot as plt\n",
        "from sklearn import datasets\n",
        "from sklearn.datasets import load_breast_cancer\n",
        "from sklearn.model_selection import train_test_split\n",
        "from sklearn.preprocessing import StandardScaler\n",
        "from sklearn.svm import SVC\n",
        "from sklearn.metrics import accuracy_score, confusion_matrix\n",
        "from matplotlib.colors import ListedColormap"
      ],
      "metadata": {
        "id": "YudjJiEIqzuN"
      },
      "execution_count": null,
      "outputs": []
    },
    {
      "cell_type": "code",
      "execution_count": null,
      "metadata": {
        "id": "G_oKpkqCiInI"
      },
      "outputs": [],
      "source": [
        "class SVMClassifier:\n",
        "    def __init__(self, kernel='linear', C=1.0, random_state=None, degree=None, gamma=None):\n",
        "        self.model = SVC(kernel=kernel, C=C, random_state=random_state, degree=degree, gamma=gamma)\n",
        "\n",
        "    def train(self, X_train, y_train):\n",
        "        self.model.fit(X_train, y_train)\n",
        "\n",
        "    def predict(self, X_test):\n",
        "        return self.model.predict(X_test)\n",
        "\n",
        "    def evaluate(self, y_true, y_pred):\n",
        "        accuracy = accuracy_score(y_true, y_pred)\n",
        "        conf_matrix = confusion_matrix(y_true, y_pred)\n",
        "        return accuracy, conf_matrix\n",
        "\n",
        "    def plot_decision_boundary(self, X, y):\n",
        "        h = .05\n",
        "        x_min, x_max = X[:, 0].min() - 1, X[:, 0].max() + 1\n",
        "        y_min, y_max = X[:, 1].min() - 1, X[:, 1].max() + 1\n",
        "        # Hint: you probably need to use np.meshgrid\n",
        "        # you might also need to use np.arange to generate sequence\n",
        "        # TODO: to finish Q2, fill the line below\n",
        "        xx, yy =\n",
        "\n",
        "        Z = self.model.predict(np.c_[xx.ravel(), yy.ravel()])\n",
        "        Z = Z.reshape(xx.shape)\n",
        "\n",
        "        colors = ['lightcoral', 'lightgreen']\n",
        "        cmap = ListedColormap(colors)\n",
        "\n",
        "        plt.contourf(xx, yy, Z, cmap=cmap, alpha=0.5)\n",
        "        plt.scatter(X[:, 0], X[:, 1], c=y, cmap=cmap)\n",
        "        plt.xlabel('x')\n",
        "        plt.ylabel('y')\n",
        "        plt.title('SVM Decision Boundary')\n",
        "        plt.show()"
      ]
    },
    {
      "cell_type": "code",
      "source": [
        "if __name__ == \"__main__\":\n",
        "    # load dataset\n",
        "    breast_cancer = load_breast_cancer()\n",
        "    print(breast_cancer.data.shape)\n",
        "    X = breast_cancer.data[:, :2]  # Only use the first two features for easy visulization\n",
        "    y = breast_cancer.target\n",
        "\n",
        "    # Split the data into training and testing sets\n",
        "    X_train, X_test, y_train, y_test = train_test_split(X, y, test_size=0.4, random_state=0)\n",
        "\n",
        "    # Standardize the features\n",
        "    scaler = StandardScaler()\n",
        "    X_train = scaler.fit_transform(X_train)\n",
        "    X_test = scaler.transform(X_test)\n",
        "\n",
        "    # Initialize and train the SVM classifier\n",
        "    # try to use linear kernel, rbf kernel with different gamma values\n",
        "    svm_classifier = SVMClassifier(kernel='rbf', degree=2, gamma= , C=1.0, random_state=0)\n",
        "    svm_classifier.train(X_train, y_train)\n",
        "\n",
        "    # Make predictions on the test set\n",
        "    y_pred = svm_classifier.predict(X_test)\n",
        "\n",
        "    # Evaluate the model\n",
        "    accuracy, conf_matrix = svm_classifier.evaluate(y_test, y_pred)\n",
        "    print(f'Accuracy: {accuracy}')\n",
        "    print('Confusion Matrix:')\n",
        "    print(conf_matrix)\n",
        "\n",
        "    # Plot the decision boundary, uncomment below once you finish the plot function\n",
        "    # svm_classifier.plot_decision_boundary(X_train, y_train)"
      ],
      "metadata": {
        "id": "MygUYT2sk5Fk"
      },
      "execution_count": null,
      "outputs": []
    },
    {
      "cell_type": "markdown",
      "source": [
        "Q1. If you test gamma values 2, 5, 10, 20, 40, how would it affect the generalization/test performance? Why? You probably want to check [SVC offical doc](https://scikit-learn.org/stable/modules/generated/sklearn.svm.SVC.html#sklearn.svm.SVC)"
      ],
      "metadata": {
        "id": "jwf8O78RkMct"
      }
    },
    {
      "cell_type": "markdown",
      "source": [
        "Q2. Please complete the above plot_decision_boundary function to visualize the decision boundary. You might want to check out the meaning of plt.contourf function, np.meshgrid function, etc. Then uncomment the last line of the above code to visualize the decision boundary when gamma=5 and 40."
      ],
      "metadata": {
        "id": "h0xjtFgtkTn9"
      }
    }
  ]
}